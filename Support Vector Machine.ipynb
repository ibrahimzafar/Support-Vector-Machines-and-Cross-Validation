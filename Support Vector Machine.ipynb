{
  "nbformat": 4,
  "nbformat_minor": 0,
  "metadata": {
    "colab": {
      "name": "Untitled17.ipynb",
      "provenance": [],
      "collapsed_sections": [],
      "authorship_tag": "ABX9TyOriHU2WE3vyD1TL55/pIy7",
      "include_colab_link": true
    },
    "kernelspec": {
      "name": "python3",
      "display_name": "Python 3"
    }
  },
  "cells": [
    {
      "cell_type": "markdown",
      "metadata": {
        "id": "view-in-github",
        "colab_type": "text"
      },
      "source": [
        "<a href=\"https://colab.research.google.com/github/ibrahimzafar/Support-Vector-Machines-and-Cross-Validation/blob/master/Support%20Vector%20Machine.ipynb\" target=\"_parent\"><img src=\"https://colab.research.google.com/assets/colab-badge.svg\" alt=\"Open In Colab\"/></a>"
      ]
    },
    {
      "cell_type": "markdown",
      "metadata": {
        "id": "pMSQUc1JxU2K",
        "colab_type": "text"
      },
      "source": [
        "# **Support Vector Machines and Cross Validation** \n",
        "\n",
        "\n"
      ]
    },
    {
      "cell_type": "code",
      "metadata": {
        "id": "sJZKhg-PjxaG",
        "colab_type": "code",
        "colab": {}
      },
      "source": [
        "from sklearn import svm, datasets\n",
        "from sklearn.model_selection import KFold, GridSearchCV\n",
        "import numpy as np\n",
        "import matplotlib.pyplot as plt\n",
        "from statistics import mean"
      ],
      "execution_count": 0,
      "outputs": []
    },
    {
      "cell_type": "markdown",
      "metadata": {
        "id": "JkMSAA8zoP4d",
        "colab_type": "text"
      },
      "source": [
        "### Loading the Iris Dataset from sklearn"
      ]
    },
    {
      "cell_type": "code",
      "metadata": {
        "id": "9oAV4vkIj1MR",
        "colab_type": "code",
        "colab": {}
      },
      "source": [
        "iris = datasets.load_iris()\n",
        "iris_X = iris.data\n",
        "iris_y = iris.target"
      ],
      "execution_count": 0,
      "outputs": []
    },
    {
      "cell_type": "code",
      "metadata": {
        "id": "b3IbzCq6j5qC",
        "colab_type": "code",
        "colab": {}
      },
      "source": [
        "indices = np.random.permutation(len(iris_X))\n",
        "iris_X_train = iris_X[indices[:-40]]\n",
        "iris_y_train = iris_y[indices[:-40]]\n",
        "iris_X_valid = iris_X[indices[-40:-20]]\n",
        "iris_y_valid = iris_y[indices[-40:-20]]\n",
        "iris_X_test = iris_X[indices[-20:]]\n",
        "iris_y_test = iris_y[indices[-20:]]"
      ],
      "execution_count": 0,
      "outputs": []
    },
    {
      "cell_type": "markdown",
      "metadata": {
        "id": "unvxCcwwnrdI",
        "colab_type": "text"
      },
      "source": [
        "## **Linear Support Vector Machine Classifier**\n",
        "\n"
      ]
    },
    {
      "cell_type": "markdown",
      "metadata": {
        "id": "1zhTF08rmX3-",
        "colab_type": "text"
      },
      "source": [
        "Use the validation set (iris_X_valid, iris_y_valid) to identify the optimal value for C, at\n",
        "least given the validation set.\n"
      ]
    },
    {
      "cell_type": "code",
      "metadata": {
        "id": "3GSLBCeWzK_3",
        "colab_type": "code",
        "colab": {
          "base_uri": "https://localhost:8080/",
          "height": 34
        },
        "outputId": "1157df9a-0278-40c4-d1da-960383df60da"
      },
      "source": [
        "kf = KFold(n_splits=5, shuffle=True, random_state=42)\n",
        "kf.get_n_splits(iris_X)\n",
        "print(kf)"
      ],
      "execution_count": 46,
      "outputs": [
        {
          "output_type": "stream",
          "text": [
            "KFold(n_splits=5, random_state=42, shuffle=True)\n"
          ],
          "name": "stdout"
        }
      ]
    },
    {
      "cell_type": "code",
      "metadata": {
        "id": "_frkdwLP7axe",
        "colab_type": "code",
        "colab": {
          "base_uri": "https://localhost:8080/",
          "height": 136
        },
        "outputId": "1ff9e723-ce9a-4fea-d5da-19362b2bb1af"
      },
      "source": [
        "params = {}  \n",
        "for c in np.geomspace(1e-3, 1e3, 7).tolist():\n",
        "\n",
        "  cumulative = []\n",
        "  for train_index, val_index in kf.split(iris_X):\n",
        " #   print(\"TRAIN:\", len(train_index), \"TEST:\", len(val_index))\n",
        "    X_train, X_val = iris_X[train_index], iris_X[val_index]\n",
        "    y_train, y_val = iris_y[train_index], iris_y[val_index]\n",
        "\n",
        "    svc = svm.SVC(kernel='linear', C=c, random_state=42)\n",
        "    svc.fit(X_train, y_train)\n",
        "    predictions = svc.predict(X_val)\n",
        "    acc = (predictions == y_val).mean()\n",
        "    cumulative.append(acc)\n",
        "  \n",
        "  params[str(c)] = mean(cumulative)\n",
        "  print(\"Value of C: {} \\t Avg. Accuracy: {:1f}\".format(c, round(mean(cumulative), 4)))"
      ],
      "execution_count": 106,
      "outputs": [
        {
          "output_type": "stream",
          "text": [
            "Value of C: 0.001 \t Avg. Accuracy: 0.260000\n",
            "Value of C: 0.01 \t Avg. Accuracy: 0.406700\n",
            "Value of C: 0.1 \t Avg. Accuracy: 0.786700\n",
            "Value of C: 1.0 \t Avg. Accuracy: 0.806700\n",
            "Value of C: 10.0 \t Avg. Accuracy: 0.800000\n",
            "Value of C: 100.0 \t Avg. Accuracy: 0.806700\n",
            "Value of C: 1000.0 \t Avg. Accuracy: 0.806700\n"
          ],
          "name": "stdout"
        }
      ]
    },
    {
      "cell_type": "markdown",
      "metadata": {
        "id": "aF8acI9R82UD",
        "colab_type": "text"
      },
      "source": [
        "### Plotting Avg. Accuracy against Values of C"
      ]
    },
    {
      "cell_type": "code",
      "metadata": {
        "id": "NoCjF9NK7p05",
        "colab_type": "code",
        "colab": {
          "base_uri": "https://localhost:8080/",
          "height": 388
        },
        "outputId": "3e840570-79ec-4e65-ed30-1f77d2004b66"
      },
      "source": [
        "lists = sorted(params.items()) # sorted by key, return a list of tuples\n",
        "x, y = zip(*lists) # unpack a list of pairs into two tuples\n",
        "\n",
        "plt.figure(figsize=(8,6))\n",
        "plt.xlabel('Values of C')\n",
        "plt.ylabel('Avg. Accuracy')\n",
        "plt.plot(x, y)\n",
        "plt.show()"
      ],
      "execution_count": 111,
      "outputs": [
        {
          "output_type": "display_data",
          "data": {
            "image/png": "[encoded data removed]",
            "text/plain": [
              "<Figure size 576x432 with 1 Axes>"
            ]
          },
          "metadata": {
            "tags": [],
            "needs_background": "light"
          }
        }
      ]
    },
    {
      "cell_type": "markdown",
      "metadata": {
        "id": "oTTFl34A7Q7I",
        "colab_type": "text"
      },
      "source": [
        "We can see that the best results are at a C value of 1.0."
      ]
    },
    {
      "cell_type": "markdown",
      "metadata": {
        "id": "Rt9ouUdQJNLs",
        "colab_type": "text"
      },
      "source": [
        "## **Non-Linear Support Vector Machine Classifier**\n",
        "\n",
        "### Grid Search for best parameters, using K-Fold Cross Validation"
      ]
    },
    {
      "cell_type": "markdown",
      "metadata": {
        "id": "6Im1GQcOTNgS",
        "colab_type": "text"
      },
      "source": [
        "Gamma and C values should ideally be on a geometric series, such as:\n",
        "\n",
        "'C': np.geomspace(2e-5, 2e15, 11).tolist()\n",
        "\n",
        "'gamma': np.geomspace(2e-13, 2e3, 17).tolist()\n",
        "\n",
        "References: \n",
        "\n",
        "*   https://stats.stackexchange.com/questions/43943/which-search-range-for-determining-svm-optimal-c-and-gamma-parameters\n",
        "*   https://www.csie.ntu.edu.tw/~cjlin/papers/guide/guide.pdf\n"
      ]
    },
    {
      "cell_type": "markdown",
      "metadata": {
        "id": "zudW5O3z90We",
        "colab_type": "text"
      },
      "source": [
        "We manually implemented the parameter search in the Linear SVM code above. \n",
        "\n",
        "Now we will use GridSearchCV from sklearn that takes care of a Grid Search over all parameters, and performs a K-Fold cross validation for each parameter. \n",
        "\n",
        "As done before, k = 5, specified as cv=5 in the model's parameters."
      ]
    },
    {
      "cell_type": "code",
      "metadata": {
        "id": "VwlhcKQhIXG_",
        "colab_type": "code",
        "colab": {
          "base_uri": "https://localhost:8080/",
          "height": 255
        },
        "outputId": "06a9e9ba-b290-4d37-ca72-ffa3ef5ac4ab"
      },
      "source": [
        "parameters = {'C':np.geomspace(1e-3, 1e3, 7).tolist(), 'gamma': np.geomspace(1e-2, 1e1, 7).tolist()}\n",
        "svc = svm.SVC(kernel='rbf', random_state=42)\n",
        "\n",
        "#For the parameter 'cv' with integer/None inputs, if the estimator is a classifier and y is either binary or multiclass, StratifiedKFold is used\n",
        "non_linear_clf = GridSearchCV(svc, parameters, refit=True, cv=5, n_jobs=-1, scoring='accuracy')\n",
        "non_linear_clf.fit(iris_X, iris_y)"
      ],
      "execution_count": 112,
      "outputs": [
        {
          "output_type": "execute_result",
          "data": {
            "text/plain": [
              "GridSearchCV(cv=5, error_score=nan,\n",
              "             estimator=SVC(C=1.0, break_ties=False, cache_size=200,\n",
              "                           class_weight=None, coef0=0.0,\n",
              "                           decision_function_shape='ovr', degree=3,\n",
              "                           gamma='scale', kernel='rbf', max_iter=-1,\n",
              "                           probability=False, random_state=42, shrinking=True,\n",
              "                           tol=0.001, verbose=False),\n",
              "             iid='deprecated', n_jobs=-1,\n",
              "             param_grid={'C': [0.001, 0.01, 0.1, 1.0, 10.0, 100.0, 1000.0],\n",
              "                         'gamma': [0.01, 0.03162277660168379, 0.1,\n",
              "                                   0.31622776601683794, 1.0, 3.1622776601683795,\n",
              "                                   10.0]},\n",
              "             pre_dispatch='2*n_jobs', refit=True, return_train_score=False,\n",
              "             scoring='accuracy', verbose=0)"
            ]
          },
          "metadata": {
            "tags": []
          },
          "execution_count": 112
        }
      ]
    },
    {
      "cell_type": "markdown",
      "metadata": {
        "id": "OO4KcPuE-8zm",
        "colab_type": "text"
      },
      "source": [
        "## Retrieving the best parameters"
      ]
    },
    {
      "cell_type": "code",
      "metadata": {
        "id": "cexUGW_SA0hX",
        "colab_type": "code",
        "colab": {
          "base_uri": "https://localhost:8080/",
          "height": 119
        },
        "outputId": "fbe161c3-acc7-463a-a5a8-f614b0537910"
      },
      "source": [
        "optimised_nonlinear_SVM = non_linear_clf.best_estimator_\n",
        "print(optimised_nonlinear_SVM)\n",
        "print(non_linear_clf.best_score_)\n",
        "print(non_linear_clf.best_params_)\n",
        "best_C = non_linear_clf.best_params_['C']\n",
        "best_gamma = non_linear_clf.best_params_['gamma']"
      ],
      "execution_count": 119,
      "outputs": [
        {
          "output_type": "stream",
          "text": [
            "SVC(C=10.0, break_ties=False, cache_size=200, class_weight=None, coef0=0.0,\n",
            "    decision_function_shape='ovr', degree=3, gamma=0.31622776601683794,\n",
            "    kernel='rbf', max_iter=-1, probability=False, random_state=42,\n",
            "    shrinking=True, tol=0.001, verbose=False)\n",
            "0.8266666666666668\n",
            "{'C': 10.0, 'gamma': 0.31622776601683794}\n"
          ],
          "name": "stdout"
        }
      ]
    },
    {
      "cell_type": "markdown",
      "metadata": {
        "id": "km9xF36E_RLX",
        "colab_type": "text"
      },
      "source": [
        "## Plotting the Decision Boundary"
      ]
    },
    {
      "cell_type": "code",
      "metadata": {
        "id": "hwrELtCYkLlf",
        "colab_type": "code",
        "colab": {}
      },
      "source": [
        "def plot_contours(ax, clf, xx, yy, **params):\n",
        "  Z = clf.predict(np.c_[xx.ravel(), yy.ravel()])\n",
        "  Z = Z.reshape(xx.shape)\n",
        "  out = ax.contourf(xx, yy, Z, **params)\n",
        "  return out\n",
        "def make_meshgrid(x, y, h=.02):\n",
        "  x_min, x_max = x.min() - 1, x.max() + 1\n",
        "  y_min, y_max = y.min() - 1, y.max() + 1\n",
        "  xx, yy = np.meshgrid(np.arange(x_min, x_max, h),\n",
        "  np.arange(y_min, y_max, h))\n",
        "  return xx, yy"
      ],
      "execution_count": 0,
      "outputs": []
    },
    {
      "cell_type": "code",
      "metadata": {
        "id": "LQ4IDVhDkQxT",
        "colab_type": "code",
        "colab": {
          "base_uri": "https://localhost:8080/",
          "height": 374
        },
        "outputId": "ecdb29ed-5710-4864-8f40-c171600a1144"
      },
      "source": [
        "svc = svm.SVC(kernel='rbf', gamma=best_gamma, C=best_C, random_state=42)\n",
        "pred = svc.fit(iris_X_train, iris_y_train)\n",
        "U, V = iris_X_train[:, 0], iris_X_train[:, 1]\n",
        "xx, yy = make_meshgrid(U, V)\n",
        "fig = plt.figure(figsize=(8,6))\n",
        "ax = plt.subplot(111)\n",
        "plot_contours(ax, svc, xx, yy, cmap=plt.cm.coolwarm, alpha=0.8)\n",
        "ax.scatter(U, V, c=iris_y_train, cmap=plt.cm.cool, s=30, edgecolors='k')\n",
        "ax.set_xlim(xx.min(), xx.max())\n",
        "\n",
        "ax.set_ylim(yy.min(), yy.max())\n",
        "plt.show()\n"
      ],
      "execution_count": 138,
      "outputs": [
        {
          "output_type": "display_data",
          "data": {
            "image/png": "[encoded data removed]",
            "text/plain": [
              "<Figure size 576x432 with 1 Axes>"
            ]
          },
          "metadata": {
            "tags": [],
            "needs_background": "light"
          }
        }
      ]
    },
    {
      "cell_type": "code",
      "metadata": {
        "id": "tPQZVnhiDWcS",
        "colab_type": "code",
        "colab": {}
      },
      "source": [
        ""
      ],
      "execution_count": 0,
      "outputs": []
    }
  ]
}